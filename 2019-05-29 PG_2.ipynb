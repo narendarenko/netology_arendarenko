{
 "cells": [
  {
   "cell_type": "code",
   "execution_count": 66,
   "metadata": {},
   "outputs": [],
   "source": [
    "geo_logs = [\n",
    "    {'visit1': ['Москва', 'Россия']},\n",
    "    {'visit2': ['Дели', 'Индия']},\n",
    "    {'visit3': ['Владимир', 'Россия']},\n",
    "    {'visit4': ['Лиссабон', 'Португалия']},\n",
    "    {'visit5': ['Париж', 'Франция']},\n",
    "    {'visit6': ['Лиссабон', 'Португалия']},\n",
    "    {'visit7': ['Тула', 'Россия']},\n",
    "    {'visit8': ['Тула', 'Россия']},\n",
    "    {'visit9': ['Курск', 'Россия']},\n",
    "    {'visit10': ['Архангельск', 'Россия']},\n",
    "]"
   ]
  },
  {
   "cell_type": "code",
   "execution_count": null,
   "metadata": {},
   "outputs": [],
   "source": [
    "# Дан список с визитами по городам и странам. Напишите код, который возвращает отфильтрованный список geo_logs,\n",
    "# содержащий только визиты из России. Считайте, что список geo_logs легко помещается в оперативной памяти."
   ]
  },
  {
   "cell_type": "code",
   "execution_count": 90,
   "metadata": {},
   "outputs": [
    {
     "name": "stdout",
     "output_type": "stream",
     "text": [
      "{'visit1': ['Москва', 'Россия']}\n",
      "{'visit3': ['Владимир', 'Россия']}\n",
      "{'visit7': ['Тула', 'Россия']}\n",
      "{'visit8': ['Тула', 'Россия']}\n",
      "{'visit9': ['Курск', 'Россия']}\n",
      "{'visit10': ['Архангельск', 'Россия']}\n"
     ]
    }
   ],
   "source": [
    "for i in geo_logs:\n",
    "    if 'Россия' in  str(i.values()):\n",
    "        print(i)"
   ]
  },
  {
   "cell_type": "code",
   "execution_count": 6,
   "metadata": {},
   "outputs": [],
   "source": [
    "ids = {'user1': [213, 213, 213, 15, 213], 'user2': [54, 54, 119, 119, 119], 'user3': [213, 98, 98, 35]}"
   ]
  },
  {
   "cell_type": "code",
   "execution_count": null,
   "metadata": {},
   "outputs": [],
   "source": [
    "# Выведите на экран все уникальные гео-ID из значений словаря ids. Т. е. список вида [213, 15, 54, 119, 98, 35]"
   ]
  },
  {
   "cell_type": "code",
   "execution_count": 115,
   "metadata": {},
   "outputs": [
    {
     "name": "stdout",
     "output_type": "stream",
     "text": [
      "[98, 35, 15, 213, 54, 119]\n"
     ]
    }
   ],
   "source": [
    "ids_all = []\n",
    "for r in list(ids.values()):\n",
    "    ids_all += r\n",
    "print (list(set(ids_all)))"
   ]
  },
  {
   "cell_type": "code",
   "execution_count": 171,
   "metadata": {},
   "outputs": [],
   "source": [
    "queries = [\n",
    "    'смотреть сериалы онлайн',\n",
    "    'новости спорта',\n",
    "    'афиша кино',\n",
    "    'курс доллара',\n",
    "    'сериалы этим летом',\n",
    "    'курс по питону',\n",
    "    'сериалы про спорт',\n",
    "]"
   ]
  },
  {
   "cell_type": "code",
   "execution_count": null,
   "metadata": {},
   "outputs": [],
   "source": [
    "# Список поисковых запросов. Получить распределение количества слов в них. \n",
    "# Т. е. поисковых запросов из одного слова 5%, из двух - 7%, из трех - 3% итд."
   ]
  },
  {
   "cell_type": "code",
   "execution_count": 253,
   "metadata": {
    "scrolled": true
   },
   "outputs": [
    {
     "name": "stdout",
     "output_type": "stream",
     "text": [
      "[1, 3]\n",
      "[2, 2]\n",
      "[3, 2]\n",
      "[4, 2]\n",
      "[5, 3]\n",
      "[6, 3]\n",
      "[7, 3]\n"
     ]
    }
   ],
   "source": [
    "n = []\n",
    "m = 0\n",
    "for i in queries:\n",
    "    n = len(i.split())\n",
    "    m += 1\n",
    "    print([m,n])\n",
    "   "
   ]
  },
  {
   "cell_type": "code",
   "execution_count": 222,
   "metadata": {},
   "outputs": [],
   "source": [
    "stats = {'facebook': 55, 'yandex': 120, 'vk': 115, 'google': 99, 'email': 42, 'ok': 98}"
   ]
  },
  {
   "cell_type": "code",
   "execution_count": null,
   "metadata": {},
   "outputs": [],
   "source": [
    "# Дана статистика рекламных каналов по объемам продаж. Напишите скрипт, который возвращает название канала \n",
    "# с максимальным объемом.\n",
    "# Т. е. в данном примере скрипт должен возвращать 'yandex'."
   ]
  },
  {
   "cell_type": "code",
   "execution_count": 250,
   "metadata": {},
   "outputs": [
    {
     "name": "stdout",
     "output_type": "stream",
     "text": [
      "yandex\n"
     ]
    }
   ],
   "source": [
    "n = 0\n",
    "for i in sorted(stats.items(), key = lambda x: x[1], reverse=True):\n",
    "\n",
    "    n += 1\n",
    "   \n",
    "    print(i[0])\n",
    "    \n",
    "    if n > 0:\n",
    "            break\n",
    "\n",
    "\n"
   ]
  },
  {
   "cell_type": "code",
   "execution_count": null,
   "metadata": {},
   "outputs": [],
   "source": []
  }
 ],
 "metadata": {
  "kernelspec": {
   "display_name": "Python 3",
   "language": "python",
   "name": "python3"
  },
  "language_info": {
   "codemirror_mode": {
    "name": "ipython",
    "version": 3
   },
   "file_extension": ".py",
   "mimetype": "text/x-python",
   "name": "python",
   "nbconvert_exporter": "python",
   "pygments_lexer": "ipython3",
   "version": "3.7.3"
  }
 },
 "nbformat": 4,
 "nbformat_minor": 2
}
