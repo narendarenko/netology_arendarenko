{
 "cells": [
  {
   "cell_type": "markdown",
   "metadata": {},
   "source": [
    "**Задание 1**. Даны 2 строки: *long_phrase* и *short_phrase*. \n",
    "Напишите код, который проверяет действительно ли длинная фраза *long_phrase* длиннее короткой *short_phrase*. И выводит *True* или *False* в зависимости от результата сравнения."
   ]
  },
  {
   "cell_type": "code",
   "execution_count": 2,
   "metadata": {},
   "outputs": [],
   "source": [
    "long_phrase = 'Насколько проще было бы писать программы, если бы не заказчики'\n",
    "short_phrase = '640Кб должно хватить для любых задач. Билл Гейтс (по легенде)'"
   ]
  },
  {
   "cell_type": "code",
   "execution_count": 3,
   "metadata": {},
   "outputs": [
    {
     "data": {
      "text/plain": [
       "True"
      ]
     },
     "execution_count": 3,
     "metadata": {},
     "output_type": "execute_result"
    }
   ],
   "source": [
    "len(long_phrase) > len(short_phrase)"
   ]
  },
  {
   "cell_type": "markdown",
   "metadata": {},
   "source": [
    "**Задание 2**. Дано значение объема файла в байтах. Напишите перевод этого значения в мегабайты в формате: \"*Объем файла равен 213.68Mb*\""
   ]
  },
  {
   "cell_type": "code",
   "execution_count": 6,
   "metadata": {},
   "outputs": [
    {
     "name": "stdout",
     "output_type": "stream",
     "text": [
      "213.68\n",
      "\"Объём файла равен 213.68 Mb\"\n"
     ]
    }
   ],
   "source": [
    "#1MB = 1048576B\n",
    "fs = 224059719.68\n",
    "c = fs/1048576\n",
    "print('\"Объём файла равен', c, 'Mb\"')"
   ]
  },
  {
   "cell_type": "markdown",
   "metadata": {},
   "source": [
    "**Задание 3**. Разработать приложение для определения знака зодиака по дате рождения. Пример:\n",
    "\n",
    "Введите месяц: март\n",
    "\n",
    "Введите число: 6\n",
    "\n",
    "Вывод:\n",
    "Рыбы"
   ]
  },
  {
   "cell_type": "code",
   "execution_count": 31,
   "metadata": {},
   "outputs": [
    {
     "name": "stdout",
     "output_type": "stream",
     "text": [
      "Введите месяц: ноябрь\n",
      "Введите число: 24\n",
      "Стрелец\n"
     ]
    }
   ],
   "source": [
    "#Овен (с 21 марта по 20 апреля),Близнецы (с 22 мая по 21 июня), Лев (с 23 июля по 21 августа), Весы (с 24 сент. по 23 октября)\n",
    "#Стрелец (с 23 ноября по 22 декабря),Водолей (с 21 января по 19 февраля), Телец (с 21 апреля по 21 мая),\n",
    "#Рак (с 22 июня по 22 июля), Дева (с 22 августа по 23 сентября),Скорпион (с 24 окт. по 22 ноября), \n",
    "#Козерог (с 23 декабря по 20 января), Рыбы (с 20 февраля по 20 марта)\n",
    "month = input('Введите месяц: ')\n",
    "number = input('Введите число: ')\n",
    "if month == 'январь':\n",
    "    if int(number) > 20 and int(number) <=31:\n",
    "        print('Водолей')\n",
    "    elif int(number) >= 1 and int(number) <=20:\n",
    "        print('Козерог')\n",
    "    elif int(number) >= 32:\n",
    "        print('Приветсвуем тебя, Пришелец в нашем измерении')\n",
    "if month == 'февраль':\n",
    "    if int(number) > 19 and int(number) <=29:\n",
    "        print('Рыбы')\n",
    "    elif int(number) >= 1 and int(number) <=19:\n",
    "        print('Водолей')\n",
    "    elif int(number) >= 32:\n",
    "        print('Приветсвуем тебя, Пришелец в нашем измерении')\n",
    "if month == 'март':\n",
    "    if int(number) > 20 and int(number) <=31:\n",
    "        print('Овен')\n",
    "    elif int(number) >= 1 and int(number) <=20:\n",
    "        print('Рыбы')\n",
    "    elif int(number) >= 32:\n",
    "        print('Приветсвуем тебя, Пришелец в нашем измерении')\n",
    "if month == 'апрель':\n",
    "    if int(number) > 20 and int(number) <=30:\n",
    "        print('Телец')\n",
    "    elif int(number) >= 1 and int(number) <=20:\n",
    "        print('Овен')\n",
    "    elif int(number) >= 32:\n",
    "        print('Приветсвуем тебя, Пришелец в нашем измерении')\n",
    "if month == 'май':\n",
    "    if int(number) > 21 and int(number) <=31:\n",
    "        print('Близнецы')\n",
    "    elif int(number) >= 1 and int(number) <=20:\n",
    "        print('Телец')\n",
    "if month == 'июнь':\n",
    "    if int(number) > 21 and int(number) <=30:\n",
    "        print('Рак')\n",
    "    elif int(number) >= 1 and int(number) <=21:\n",
    "        print('Близнецы')\n",
    "    elif int(number) >= 32:\n",
    "        print('Приветсвуем тебя, Пришелец в нашем измерении')\n",
    "if month == 'июль':\n",
    "    if int(number) > 23 and int(number) <=31:\n",
    "        print('Лев')\n",
    "    elif int(number) >= 1 and int(number) <=23:\n",
    "        print('Рак')\n",
    "    elif int(number) >= 32:\n",
    "        print('Приветсвуем тебя, Пришелец в нашем измерении')\n",
    "if month == 'август':\n",
    "    if int(number) > 21 and int(number) <=31:\n",
    "        print('Дева')\n",
    "    elif int(number) >= 1 and int(number) <=21:\n",
    "        print('Лев')\n",
    "    elif int(number) >= 32:\n",
    "        print('Приветсвуем тебя, Пришелец в нашем измерении')\n",
    "if month == 'сентябрь':\n",
    "    if int(number) > 23 and int(number) <=30:\n",
    "        print('Весы')\n",
    "    elif int(number) >= 1 and int(number) <=23:\n",
    "        print('Дева')\n",
    "    elif int(number) >= 32:\n",
    "        print('Приветсвуем тебя, Пришелец в нашем измерении')\n",
    "if month == 'октябрь':\n",
    "    if int(number) > 23 and int(number) <=31:\n",
    "        print('Скорпион')\n",
    "    elif int(number) >= 1 and int(number) <=23:\n",
    "        print('Весы')\n",
    "    elif int(number) >= 32:\n",
    "        print('Приветсвуем тебя, Пришелец в нашем измерении')\n",
    "if month == 'ноябрь':\n",
    "    if int(number) > 23 and int(number) <=30:\n",
    "        print('Стрелец')\n",
    "    elif int(number) >= 1 and int(number) <=23:\n",
    "        print('Скорпион')\n",
    "    elif int(number) >= 32:\n",
    "        print('Приветсвуем тебя, Пришелец в нашем измерении')\n",
    "if month == 'декабрь':\n",
    "    if int(number) > 23 and int(number) <=31:\n",
    "        print('Козерог')\n",
    "    elif int(number) >= 1 and int(number) <=23:\n",
    "        print('Стрелец')\n",
    "    elif int(number) >= 32:\n",
    "        print('Приветсвуем тебя, Пришелец в нашем измерении')\n"
   ]
  },
  {
   "cell_type": "markdown",
   "metadata": {},
   "source": [
    "**Задание 4**. Нужно разработать приложение для финансового планирования.\n",
    "Приложение учитывает сколько уходит на ипотеку, \"на жизнь\" и сколько нужно отложить на пенсию.\n",
    "Пользователь вводит:\n",
    "- заработанную плату в месяц.\n",
    "- сколько процентов от ЗП уходит на ипотеку.\n",
    "- сколько процентов от ЗП уходит \"на жизнь\".\n",
    "- сколько раз приходит премия в год.\n",
    "\n",
    "Остальная часть заработанной платы откладывается на пенсию.\n",
    "\n",
    "Также пользователю приходит премия в размере зарплаты, от которой половина уходит на отпуск, а вторая половина откладывается.\n",
    "\n",
    "Программа должна учитывать сколько премий было в год.\n",
    "\n",
    "Нужно вывести сколько денег тратит пользователь на ипотеку и сколько он накопит за год.\n",
    "\n",
    "Пример:\n",
    "\n",
    "Введите заработанную плату в месяц: 100000\n",
    "\n",
    "Введите сколько процентов уходит на ипотеку: 30\n",
    "\n",
    "Введите сколько процентов уходит на жизнь: 50\n",
    "\n",
    "Введите количество премий за год: 2\n",
    "\n",
    "Вывод:\n",
    "На ипотеку было потрачено: 360000 рублей\n",
    "Было накоплено: 340000 рублей"
   ]
  },
  {
   "cell_type": "code",
   "execution_count": 14,
   "metadata": {},
   "outputs": [
    {
     "name": "stdout",
     "output_type": "stream",
     "text": [
      "Введите заработанную плату в месяц:100000\n",
      "Введите сколько процентов уходит на ипотеку:40\n",
      "Введите сколько процентов уходит на жизнь:50\n",
      "Введите количество премий за год:2\n",
      "На ипотеку было потрачено: 480000 рублей Было накоплено: 220000 рублей\n"
     ]
    }
   ],
   "source": [
    "z = input('Введите заработанную плату в месяц:')\n",
    "ip = input('Введите сколько процентов уходит на ипотеку:')\n",
    "l = input('Введите сколько процентов уходит на жизнь:')\n",
    "pr = input('Введите количество премий за год:')\n",
    "ipt = int(z) * int(ip)/100 * 12\n",
    "nk = int(z)*12 - int(ipt) - int(z)*12*int(l)/100 + int(z)/2*int(pr)\n",
    "print('На ипотеку было потрачено:', int(ipt), 'рублей', 'Было накоплено:', int(nk), 'рублей')"
   ]
  },
  {
   "cell_type": "code",
   "execution_count": null,
   "metadata": {},
   "outputs": [],
   "source": []
  }
 ],
 "metadata": {
  "kernelspec": {
   "display_name": "Python 3",
   "language": "python",
   "name": "python3"
  },
  "language_info": {
   "codemirror_mode": {
    "name": "ipython",
    "version": 3
   },
   "file_extension": ".py",
   "mimetype": "text/x-python",
   "name": "python",
   "nbconvert_exporter": "python",
   "pygments_lexer": "ipython3",
   "version": "3.7.3"
  }
 },
 "nbformat": 4,
 "nbformat_minor": 2
}
